{
 "cells": [
  {
   "cell_type": "code",
   "execution_count": 21,
   "id": "d79cc88d-c805-4cec-aae5-30545910f828",
   "metadata": {},
   "outputs": [],
   "source": [
    "import pandas as pd\n",
    "from pathlib import Path\n",
    "import mne"
   ]
  },
  {
   "cell_type": "code",
   "execution_count": 56,
   "id": "315bf533-e836-4a57-b0e8-c9235b94fda4",
   "metadata": {},
   "outputs": [
    {
     "name": "stdout",
     "output_type": "stream",
     "text": [
      "Fatemeh Saleh\n",
      "Atousa Norouzian\n",
      "Noura Tavakori\n",
      "Fatemeh Sadeghian\n",
      "MohammadAli HesariNezhad\n",
      "Kian Darabi\n",
      "Mona Kaveh\n",
      "Reyhaneh Hosseini\n",
      "Fatemeh Hosseini\n",
      "Zahra Ahmadi\n"
     ]
    }
   ],
   "source": [
    "import json\n",
    "\n",
    "p = {}\n",
    "assets = Path(\"../assets\")\n",
    "for person_dir in assets.iterdir():\n",
    "    info = person_dir / \"info.json\"\n",
    "    with info.open(\"r\") as file:\n",
    "        data = json.load(file)\n",
    "        full_name = f\"{data['name']} {data['lastname']}\"\n",
    "        p[full_name] = data\n",
    "    p[full_name][\"eeg\"] = {}\n",
    "    for edf_file in person_dir.glob(\"*.edf\"):\n",
    "        p[full_name][\"eeg\"][edf_file.stem] = mne.io.read_raw_edf(edf_file, verbose=False)\n",
    "\n",
    "print(\"\\n\".join(p.keys()))"
   ]
  },
  {
   "cell_type": "markdown",
   "id": "ffab0dbd-32a3-4bbe-a6db-da9a5167c609",
   "metadata": {},
   "source": [
    "## Task sequence order\n",
    "1. Rest\n",
    "2. S\n",
    "3. T"
   ]
  },
  {
   "cell_type": "code",
   "execution_count": 67,
   "id": "c017d877-c3be-4181-a610-3d2cb52fb237",
   "metadata": {},
   "outputs": [
    {
     "name": "stdout",
     "output_type": "stream",
     "text": [
      "Fatemeh Saleh\n",
      "s?\t 10:34:45 \t 10:38:23.998000\n",
      "t\t 10:38:23 \t 10:42:08.998000\n",
      "rest\t 10:30:09 \t 10:34:15.998000\n",
      "-----\n",
      "Atousa Norouzian\n",
      "s\t 09:43:09 \t 09:47:23.998000\n",
      "t\t 09:39:44 \t 09:43:09.998000\n",
      "rest\t 09:36:29 \t 09:39:44.998000\n",
      "-----\n",
      "Noura Tavakori\n",
      "t\t 14:17:57 \t 14:21:03.998000\n",
      "rest\t 14:12:53 \t 14:17:56.998000\n",
      "-----\n",
      "Fatemeh Sadeghian\n",
      "rest\t 10:49:25 \t 10:53:29.998000\n",
      "s\t 10:53:29 \t 10:57:24.998000\n",
      "t\t 10:57:24 \t 11:00:29.998000\n",
      "-----\n",
      "MohammadAli HesariNezhad\n",
      "s\t 10:06:39 \t 10:09:47.998000\n",
      "t\t 10:03:26 \t 10:06:39.998000\n",
      "rest\t 10:00:09 \t 10:03:26.998000\n",
      "-----\n",
      "Kian Darabi\n",
      "rest?\t 11:17:56 \t 11:21:40.998000\n",
      "t\t 11:07:11 \t 11:12:34.998000\n",
      "s\t 11:12:35 \t 11:17:56.998000\n",
      "-----\n",
      "Mona Kaveh\n",
      "rest\t 13:30:04 \t 13:35:16.998000\n",
      "s\t 13:42:15 \t 13:45:27.998000\n",
      "t\t 13:51:17 \t 13:54:37.998000\n",
      "-----\n",
      "Reyhaneh Hosseini\n",
      "rest\t 11:16:20 \t 11:21:34.998000\n",
      "t\t 11:29:00 \t 11:32:05.998000\n",
      "s\t 11:38:05 \t 11:41:08.998000\n",
      "-----\n",
      "Fatemeh Hosseini\n",
      "s\t 08:51:40 \t 08:54:38.998000\n",
      "t\t 08:54:39 \t 08:58:14.998000\n",
      "rest\t 08:48:45 \t 08:51:40.998000\n",
      "-----\n",
      "Zahra Ahmadi\n",
      "s\t 08:57:04 \t 09:02:13.998000\n",
      "t\t 09:02:14 \t 09:07:10.998000\n",
      "rest\t 08:52:02 \t 08:57:03.998000\n",
      "-----\n"
     ]
    }
   ],
   "source": [
    "from datetime import timedelta\n",
    "\n",
    "for subject, data in p.items():\n",
    "    print(subject)\n",
    "    for file_name, eeg_data in data[\"eeg\"].items():\n",
    "        start = eeg_data.info['meas_date']\n",
    "        end = start + timedelta(seconds=eeg_data.times[-1])\n",
    "        print(f\"{file_name}\\t {start.time()} \\t {end.time()}\")\n",
    "    print(\"-----\")"
   ]
  },
  {
   "cell_type": "code",
   "execution_count": null,
   "id": "f7d2e666-d969-422a-8e52-0090fea49eef",
   "metadata": {},
   "outputs": [],
   "source": []
  }
 ],
 "metadata": {
  "kernelspec": {
   "display_name": "Python 3 (ipykernel)",
   "language": "python",
   "name": "python3"
  },
  "language_info": {
   "codemirror_mode": {
    "name": "ipython",
    "version": 3
   },
   "file_extension": ".py",
   "mimetype": "text/x-python",
   "name": "python",
   "nbconvert_exporter": "python",
   "pygments_lexer": "ipython3",
   "version": "3.11.8"
  }
 },
 "nbformat": 4,
 "nbformat_minor": 5
}
